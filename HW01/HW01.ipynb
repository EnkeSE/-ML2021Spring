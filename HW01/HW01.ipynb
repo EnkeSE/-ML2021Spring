{
  "nbformat": 4,
  "nbformat_minor": 0,
  "metadata": {
    "colab": {
      "name": "ML2021Spring - HW1.ipynb",
      "provenance": [],
      "toc_visible": true,
      "include_colab_link": true
    },
    "kernelspec": {
      "name": "python3",
      "display_name": "Python 3"
    },
    "accelerator": "GPU"
  },
  "cells": [
    {
      "cell_type": "markdown",
      "metadata": {
        "id": "view-in-github",
        "colab_type": "text"
      },
      "source": [
        "<a href=\"https://colab.research.google.com/github/EnkeSE/-ML2021Spring/blob/main/HW01/HW01.ipynb\" target=\"_parent\"><img src=\"https://colab.research.google.com/assets/colab-badge.svg\" alt=\"Open In Colab\"/></a>"
      ]
    },
    {
      "cell_type": "markdown",
      "metadata": {
        "id": "mz0_QVkxCrX3"
      },
      "source": [
        "# **Homework 1: COVID-19 Cases Prediction (Regression)**"
      ]
    },
    {
      "cell_type": "markdown",
      "metadata": {
        "id": "ZeZnPAiwDRWG"
      },
      "source": [
        "Author: Heng-Jui Chang\n",
        "\n",
        "Slides: https://github.com/ga642381/ML2021-Spring/blob/main/HW01/HW01.pdf  \n",
        "Videos (Mandarin): https://cool.ntu.edu.tw/courses/4793/modules/items/172854  \n",
        "https://cool.ntu.edu.tw/courses/4793/modules/items/172853  \n",
        "Video (English): https://cool.ntu.edu.tw/courses/4793/modules/items/176529\n",
        "\n",
        "\n",
        "Objectives:\n",
        "* Solve a regression problem with deep neural networks (DNN).\n",
        "* Understand basic DNN training tips.\n",
        "* Get familiar with PyTorch.\n",
        "\n",
        "If any questions, please contact the TAs via TA hours, NTU COOL, or email.\n"
      ]
    },
    {
      "cell_type": "markdown",
      "metadata": {
        "id": "Jx3x1nDkG-Uy"
      },
      "source": [
        "# **Download Data**\n",
        "\n",
        "\n",
        "If the Google drive links are dead, you can download data from [kaggle](https://www.kaggle.com/c/ml2021spring-hw1/data), and upload data manually to the workspace."
      ]
    },
    {
      "cell_type": "code",
      "metadata": {
        "colab": {
          "base_uri": "https://localhost:8080/"
        },
        "id": "tMj55YDKG6ch",
        "outputId": "6e64319a-8c1d-4082-9162-afe690ca09f3"
      },
      "source": [
        "tr_path = 'covid.train.csv'  # path to training data\n",
        "tt_path = 'covid.test.csv'   # path to testing data\n",
        "\n",
        "!gdown --id '19CCyCgJrUxtvgZF53vnctJiOJ23T5mqF' --output covid.train.csv\n",
        "!gdown --id '1CE240jLm2npU-tdz81-oVKEF3T2yfT1O' --output covid.test.csv"
      ],
      "execution_count": 1,
      "outputs": [
        {
          "output_type": "stream",
          "name": "stdout",
          "text": [
            "/usr/local/lib/python3.12/dist-packages/gdown/__main__.py:140: FutureWarning: Option `--id` was deprecated in version 4.3.1 and will be removed in 5.0. You don't need to pass it anymore to use a file ID.\n",
            "  warnings.warn(\n",
            "Downloading...\n",
            "From: https://drive.google.com/uc?id=19CCyCgJrUxtvgZF53vnctJiOJ23T5mqF\n",
            "To: /content/covid.train.csv\n",
            "100% 2.00M/2.00M [00:00<00:00, 14.8MB/s]\n",
            "/usr/local/lib/python3.12/dist-packages/gdown/__main__.py:140: FutureWarning: Option `--id` was deprecated in version 4.3.1 and will be removed in 5.0. You don't need to pass it anymore to use a file ID.\n",
            "  warnings.warn(\n",
            "Downloading...\n",
            "From: https://drive.google.com/uc?id=1CE240jLm2npU-tdz81-oVKEF3T2yfT1O\n",
            "To: /content/covid.test.csv\n",
            "100% 651k/651k [00:00<00:00, 8.04MB/s]\n"
          ]
        }
      ]
    },
    {
      "cell_type": "markdown",
      "metadata": {
        "id": "wS_4-77xHk44"
      },
      "source": [
        "# **Import Some Packages**"
      ]
    },
    {
      "cell_type": "code",
      "metadata": {
        "id": "k-onQd4JNA5H"
      },
      "source": [
        "# PyTorch\n",
        "import torch\n",
        "import torch.nn as nn\n",
        "from torch.utils.data import Dataset, DataLoader\n",
        "\n",
        "# For data preprocess\n",
        "import numpy as np\n",
        "import csv\n",
        "import os\n",
        "\n",
        "# For plotting\n",
        "import matplotlib.pyplot as plt\n",
        "from matplotlib.pyplot import figure\n",
        "\n",
        "myseed = 42069  # set a random seed for reproducibility\n",
        "torch.backends.cudnn.deterministic = True\n",
        "torch.backends.cudnn.benchmark = False\n",
        "np.random.seed(myseed)\n",
        "torch.manual_seed(myseed)\n",
        "if torch.cuda.is_available():\n",
        "    torch.cuda.manual_seed_all(myseed)\n",
        "\n",
        "# Sklearn\n",
        "import sklearn\n",
        "from sklearn.feature_selection import SelectKBest\n",
        "from sklearn.feature_selection import f_regression\n",
        "from sklearn import preprocessing\n",
        "\n",
        "# Pandas\n",
        "import pandas as pd"
      ],
      "execution_count": 2,
      "outputs": []
    },
    {
      "cell_type": "markdown",
      "metadata": {
        "id": "BtE3b6JEH7rw"
      },
      "source": [
        "# **Some Utilities**\n",
        "\n",
        "You do not need to modify this part."
      ]
    },
    {
      "cell_type": "code",
      "metadata": {
        "id": "FWMT3uf1NGQp"
      },
      "source": [
        "def get_device():\n",
        "    ''' Get device (if GPU is available, use GPU) '''\n",
        "    return 'cuda' if torch.cuda.is_available() else 'cpu'\n",
        "\n",
        "def plot_learning_curve(loss_record, title=''):\n",
        "    ''' Plot learning curve of your DNN (train & dev loss) '''\n",
        "    total_steps = len(loss_record['train'])\n",
        "    x_1 = range(total_steps)\n",
        "    x_2 = x_1[::len(loss_record['train']) // len(loss_record['dev'])]\n",
        "    figure(figsize=(6, 4))\n",
        "    plt.plot(x_1, loss_record['train'], c='tab:red', label='train')\n",
        "    plt.plot(x_2, loss_record['dev'], c='tab:cyan', label='dev')\n",
        "    plt.ylim(0.0, 5.)\n",
        "    plt.xlabel('Training steps')\n",
        "    plt.ylabel('MSE loss')\n",
        "    plt.title('Learning curve of {}'.format(title))\n",
        "    plt.legend()\n",
        "    plt.show()\n",
        "\n",
        "\n",
        "def plot_pred(dv_set, model, device, lim=35., preds=None, targets=None):\n",
        "    ''' Plot prediction of your DNN '''\n",
        "    if preds is None or targets is None:\n",
        "        model.eval()\n",
        "        preds, targets = [], []\n",
        "        for x, y in dv_set:\n",
        "            x, y = x.to(device), y.to(device)\n",
        "            with torch.no_grad():\n",
        "                pred = model(x)\n",
        "                preds.append(pred.detach().cpu())\n",
        "                targets.append(y.detach().cpu())\n",
        "        preds = torch.cat(preds, dim=0).numpy()\n",
        "        targets = torch.cat(targets, dim=0).numpy()\n",
        "\n",
        "    figure(figsize=(5, 5))\n",
        "    plt.scatter(targets, preds, c='r', alpha=0.5)\n",
        "    plt.plot([-0.2, lim], [-0.2, lim], c='b')\n",
        "    plt.xlim(-0.2, lim)\n",
        "    plt.ylim(-0.2, lim)\n",
        "    plt.xlabel('ground truth value')\n",
        "    plt.ylabel('predicted value')\n",
        "    plt.title('Ground Truth v.s. Prediction')\n",
        "    plt.show()"
      ],
      "execution_count": 3,
      "outputs": []
    },
    {
      "cell_type": "markdown",
      "metadata": {
        "id": "39U_XFX6KOoj"
      },
      "source": [
        "# **Preprocess**\n",
        "\n",
        "We have three kinds of datasets:\n",
        "* `train`: for training\n",
        "* `dev`: for validation\n",
        "* `test`: for testing (w/o target value)"
      ]
    },
    {
      "cell_type": "markdown",
      "source": [
        "## 特征选择"
      ],
      "metadata": {
        "id": "_XmCtNbRaClN"
      }
    },
    {
      "cell_type": "code",
      "source": [
        "data = pd.read_csv(r'covid.train.csv')\n",
        "x = data[data.columns[1:94]]\n",
        "y = data[data.columns[94]]\n",
        "\n",
        "# Normalisation\n",
        "x = (x - x.min()) / (x.max() - x.min())\n",
        "\n",
        "# Create an instance of SelectKBest without specifying 'k'\n",
        "bestfeatures = SelectKBest(score_func=f_regression)\n",
        "\n",
        "# Compute the scores for all features\n",
        "fit = bestfeatures.fit(x,y)\n",
        "print(\"fit\",fit)\n",
        "\n",
        "# Convert the scores into a DataFrame\n",
        "dfscores = pd.DataFrame(fit.scores_)\n",
        "print(\"dfscores\",dfscores)\n",
        "\n",
        "# Create a DataFrame of the column names\n",
        "dfcolumns = pd.DataFrame(x.columns)\n",
        "print(\"dfcolumns\",dfcolumns)\n",
        "\n",
        "# Concatenate the two DataFrames for better visualization\n",
        "featureScores = pd.concat([dfcolumns,dfscores],axis=1)\n",
        "print(\"featureScores\",featureScores)\n",
        "\n",
        "# Name the DataFrame columns\n",
        "featureScores.columns = ['Specs','Score']\n",
        "\n",
        "# Print the 20 rows with the highest scores\n",
        "print(featureScores.nlargest(20,'Score'))\n",
        "\n",
        "# Print the index of the most important features\n",
        "top_rows = featureScores.nlargest(20, 'Score').index.tolist()[:17]\n",
        "print(top_rows)"
      ],
      "metadata": {
        "colab": {
          "base_uri": "https://localhost:8080/"
        },
        "id": "FmHjZXpGaEbZ",
        "outputId": "58ca2394-ee67-476d-83db-4a89948571ff"
      },
      "execution_count": 4,
      "outputs": [
        {
          "output_type": "stream",
          "name": "stdout",
          "text": [
            "fit SelectKBest(score_func=<function f_regression at 0x7be342ea0c20>)\n",
            "dfscores              0\n",
            "0    10.915952\n",
            "1    64.396242\n",
            "2    72.803676\n",
            "3     2.546223\n",
            "4   122.361562\n",
            "..         ...\n",
            "88   64.587744\n",
            "89    2.362492\n",
            "90   17.895720\n",
            "91  208.122647\n",
            "92  833.613191\n",
            "\n",
            "[93 rows x 1 columns]\n",
            "dfcolumns                        0\n",
            "0                     AL\n",
            "1                     AK\n",
            "2                     AZ\n",
            "3                     AR\n",
            "4                     CA\n",
            "..                   ...\n",
            "88             anxious.2\n",
            "89           depressed.2\n",
            "90       felt_isolated.2\n",
            "91  worried_become_ill.2\n",
            "92    worried_finances.2\n",
            "\n",
            "[93 rows x 1 columns]\n",
            "featureScores                        0           0\n",
            "0                     AL   10.915952\n",
            "1                     AK   64.396242\n",
            "2                     AZ   72.803676\n",
            "3                     AR    2.546223\n",
            "4                     CA  122.361562\n",
            "..                   ...         ...\n",
            "88             anxious.2   64.587744\n",
            "89           depressed.2    2.362492\n",
            "90       felt_isolated.2   17.895720\n",
            "91  worried_become_ill.2  208.122647\n",
            "92    worried_finances.2  833.613191\n",
            "\n",
            "[93 rows x 2 columns]\n",
            "                 Specs          Score\n",
            "75   tested_positive.1  148069.658278\n",
            "57     tested_positive   69603.872591\n",
            "42        hh_cmnty_cli    9235.492094\n",
            "60      hh_cmnty_cli.1    9209.019558\n",
            "78      hh_cmnty_cli.2    9097.375172\n",
            "43      nohh_cmnty_cli    8395.421300\n",
            "61    nohh_cmnty_cli.1    8343.255927\n",
            "79    nohh_cmnty_cli.2    8208.176435\n",
            "40                 cli    6388.906849\n",
            "58               cli.1    6374.548000\n",
            "76               cli.2    6250.008702\n",
            "41                 ili    5998.922880\n",
            "59               ili.1    5937.588576\n",
            "77               ili.2    5796.947672\n",
            "92  worried_finances.2     833.613191\n",
            "74  worried_finances.1     811.916460\n",
            "56    worried_finances     788.076931\n",
            "87    public_transit.2     686.736539\n",
            "69    public_transit.1     681.562902\n",
            "51      public_transit     678.834789\n",
            "[75, 57, 42, 60, 78, 43, 61, 79, 40, 58, 76, 41, 59, 77, 92, 74, 56]\n"
          ]
        }
      ]
    },
    {
      "cell_type": "markdown",
      "metadata": {
        "id": "TQ-MdwpLL7Dt"
      },
      "source": [
        "## **Dataset**\n",
        "\n",
        "The `COVID19Dataset` below does:\n",
        "* read `.csv` files\n",
        "* extract features\n",
        "* split `covid.train.csv` into train/dev sets\n",
        "* normalize features\n",
        "\n",
        "Finishing `TODO` below might make you pass medium baseline."
      ]
    },
    {
      "cell_type": "code",
      "metadata": {
        "id": "0zlpIp9ANJRU"
      },
      "source": [
        "class COVID19Dataset(Dataset):\n",
        "    ''' Dataset for loading and preprocessing the COVID19 dataset '''\n",
        "    def __init__(self,\n",
        "                 path,\n",
        "                 mode='train',\n",
        "                 target_only=False):\n",
        "        self.mode = mode\n",
        "\n",
        "        # Read data into numpy arrays\n",
        "        with open(path, 'r') as fp:\n",
        "            data = list(csv.reader(fp))\n",
        "            data = np.array(data[1:])[:, 1:].astype(float)\n",
        "\n",
        "        if not target_only:\n",
        "            feats = list(range(93))\n",
        "        else:\n",
        "            # TODO: Using 40 states & 2 tested_positive features (indices = 57 & 75)\n",
        "            pass\n",
        "\n",
        "        if mode == 'test':\n",
        "            # Testing data\n",
        "            # data: 893 x 93 (40 states + day 1 (18) + day 2 (18) + day 3 (17))\n",
        "            data = data[:, feats]\n",
        "            self.data = torch.FloatTensor(data)\n",
        "        else:\n",
        "            # Training data (train/dev sets)\n",
        "            # data: 2700 x 94 (40 states + day 1 (18) + day 2 (18) + day 3 (18))\n",
        "            target = data[:, -1]\n",
        "            data = data[:, feats]\n",
        "\n",
        "            # Splitting training data into train & dev sets\n",
        "            if mode == 'train':\n",
        "                indices = [i for i in range(len(data)) if i % 15 != 0]\n",
        "            elif mode == 'dev':\n",
        "                indices = [i for i in range(len(data)) if i % 15 == 0]\n",
        "\n",
        "            # Convert data into PyTorch tensors\n",
        "            self.data = torch.FloatTensor(data[indices])\n",
        "            self.target = torch.FloatTensor(target[indices])\n",
        "\n",
        "        # Normalize features (you may remove this part to see what will happen)\n",
        "        self.data[:, 40:] = \\\n",
        "            (self.data[:, 40:] - self.data[:, 40:].mean(dim=0, keepdim=True)) \\\n",
        "            / self.data[:, 40:].std(dim=0, keepdim=True)\n",
        "\n",
        "        self.dim = self.data.shape[1]\n",
        "\n",
        "        print('Finished reading the {} set of COVID19 Dataset ({} samples found, each dim = {})'\n",
        "              .format(mode, len(self.data), self.dim))\n",
        "\n",
        "    def __getitem__(self, index):\n",
        "        # Returns one sample at a time\n",
        "        if self.mode in ['train', 'dev']:\n",
        "            # For training\n",
        "            return self.data[index], self.target[index]\n",
        "        else:\n",
        "            # For testing (no target)\n",
        "            return self.data[index]\n",
        "\n",
        "    def __len__(self):\n",
        "        # Returns the size of the dataset\n",
        "        return len(self.data)"
      ],
      "execution_count": 5,
      "outputs": []
    },
    {
      "cell_type": "markdown",
      "metadata": {
        "id": "AlhTlkE7MDo3"
      },
      "source": [
        "## **DataLoader**\n",
        "\n",
        "A `DataLoader` loads data from a given `Dataset` into batches.\n"
      ]
    },
    {
      "cell_type": "code",
      "metadata": {
        "id": "hlhLk5t6MBX3"
      },
      "source": [
        "def prep_dataloader(path, mode, batch_size, n_jobs=0, target_only=False):\n",
        "    ''' Generates a dataset, then is put into a dataloader. '''\n",
        "    dataset = COVID19Dataset(path, mode=mode, target_only=target_only)  # Construct dataset\n",
        "    dataloader = DataLoader(\n",
        "        dataset, batch_size,\n",
        "        shuffle=(mode == 'train'), drop_last=False,\n",
        "        num_workers=n_jobs, pin_memory=True)                            # Construct dataloader\n",
        "    return dataloader"
      ],
      "execution_count": 6,
      "outputs": []
    },
    {
      "cell_type": "markdown",
      "metadata": {
        "id": "SGuycwR0MeQB"
      },
      "source": [
        "# **Deep Neural Network**\n",
        "\n",
        "`NeuralNet` is an `nn.Module` designed for regression.\n",
        "The DNN consists of 2 fully-connected layers with ReLU activation.\n",
        "This module also included a function `cal_loss` for calculating loss.\n"
      ]
    },
    {
      "cell_type": "code",
      "metadata": {
        "id": "49-uXYovOAI0"
      },
      "source": [
        "class NeuralNet(nn.Module):\n",
        "    ''' A simple fully-connected deep neural network '''\n",
        "    def __init__(self, input_dim):\n",
        "        super(NeuralNet, self).__init__()\n",
        "\n",
        "        # Define your neural network here\n",
        "        # TODO: How to modify this model to achieve better performance?\n",
        "        self.net = nn.Sequential(\n",
        "            nn.Linear(input_dim, 16),\n",
        "            nn.BatchNorm1d(16),\n",
        "            nn.Dropout(p=0.2),\n",
        "            nn.ReLU(),\n",
        "            nn.Linear(16, 1)\n",
        "        )\n",
        "\n",
        "        # Mean squared error loss\n",
        "        self.criterion = nn.MSELoss(reduction='mean')\n",
        "\n",
        "    def forward(self, x):\n",
        "        ''' Given input of size (batch_size x input_dim), compute output of the network '''\n",
        "        return self.net(x).squeeze(1)\n",
        "\n",
        "    def cal_loss(self, pred, target):\n",
        "        ''' Calculate loss '''\n",
        "        # TODO: you may implement L1/L2 regularization here\n",
        "        regularization_loss = 0\n",
        "        for param in model.parameters():\n",
        "        # 使用L2正则项\n",
        "            # regularization_loss += torch.sum(abs(param))\n",
        "            regularization_loss += torch.sum(param ** 2)\n",
        "        return self.criterion(pred, target) + 0.00075 * regularization_loss"
      ],
      "execution_count": 7,
      "outputs": []
    },
    {
      "cell_type": "markdown",
      "metadata": {
        "id": "DvFWVjZ5Nvga"
      },
      "source": [
        "# **Train/Dev/Test**"
      ]
    },
    {
      "cell_type": "markdown",
      "metadata": {
        "id": "MAM8QecJOyqn"
      },
      "source": [
        "## **Training**"
      ]
    },
    {
      "cell_type": "code",
      "metadata": {
        "id": "lOqcmYzMO7jB"
      },
      "source": [
        "def train(tr_set, dv_set, model, config, device):\n",
        "    ''' DNN training '''\n",
        "\n",
        "    n_epochs = config['n_epochs']  # Maximum number of epochs\n",
        "\n",
        "    # Setup optimizer\n",
        "    optimizer = getattr(torch.optim, config['optimizer'])(\n",
        "        model.parameters(), **config['optim_hparas'])\n",
        "\n",
        "    min_mse = 1000.\n",
        "    loss_record = {'train': [], 'dev': []}      # for recording training loss\n",
        "    early_stop_cnt = 0\n",
        "    epoch = 0\n",
        "    while epoch < n_epochs:\n",
        "        model.train()                           # set model to training mode\n",
        "        for x, y in tr_set:                     # iterate through the dataloader\n",
        "            optimizer.zero_grad()               # set gradient to zero\n",
        "            x, y = x.to(device), y.to(device)   # move data to device (cpu/cuda)\n",
        "            pred = model(x)                     # forward pass (compute output)\n",
        "            mse_loss = model.cal_loss(pred, y)  # compute loss\n",
        "            mse_loss.backward()                 # compute gradient (backpropagation)\n",
        "            optimizer.step()                    # update model with optimizer\n",
        "            loss_record['train'].append(mse_loss.detach().cpu().item())\n",
        "\n",
        "        # After each epoch, test your model on the validation (development) set.\n",
        "        dev_mse = dev(dv_set, model, device)\n",
        "        if dev_mse < min_mse:\n",
        "            # Save model if your model improved\n",
        "            min_mse = dev_mse\n",
        "            print('Saving model (epoch = {:4d}, loss = {:.4f})'\n",
        "                .format(epoch + 1, min_mse))\n",
        "            torch.save(model.state_dict(), config['save_path'])  # Save model to specified path\n",
        "            early_stop_cnt = 0\n",
        "        else:\n",
        "            early_stop_cnt += 1\n",
        "\n",
        "        epoch += 1\n",
        "        loss_record['dev'].append(dev_mse)\n",
        "        if early_stop_cnt > config['early_stop']:\n",
        "            # Stop training if your model stops improving for \"config['early_stop']\" epochs.\n",
        "            break\n",
        "\n",
        "    print('Finished training after {} epochs'.format(epoch))\n",
        "    return min_mse, loss_record"
      ],
      "execution_count": 8,
      "outputs": []
    },
    {
      "cell_type": "markdown",
      "metadata": {
        "id": "0hSd4Bn3O2PL"
      },
      "source": [
        "## **Validation**"
      ]
    },
    {
      "cell_type": "code",
      "metadata": {
        "id": "yrxrD3YsN3U2"
      },
      "source": [
        "def dev(dv_set, model, device):\n",
        "    model.eval()                                # set model to evalutation mode\n",
        "    total_loss = 0\n",
        "    for x, y in dv_set:                         # iterate through the dataloader\n",
        "        x, y = x.to(device), y.to(device)       # move data to device (cpu/cuda)\n",
        "        with torch.no_grad():                   # disable gradient calculation\n",
        "            pred = model(x)                     # forward pass (compute output)\n",
        "            mse_loss = model.cal_loss(pred, y)  # compute loss\n",
        "        total_loss += mse_loss.detach().cpu().item() * len(x)  # accumulate loss\n",
        "    total_loss = total_loss / len(dv_set.dataset)              # compute averaged loss\n",
        "\n",
        "    return total_loss"
      ],
      "execution_count": 9,
      "outputs": []
    },
    {
      "cell_type": "markdown",
      "metadata": {
        "id": "g0pdrhQAO41L"
      },
      "source": [
        "## **Testing**"
      ]
    },
    {
      "cell_type": "code",
      "metadata": {
        "id": "aSBMRFlYN5tB"
      },
      "source": [
        "def test(tt_set, model, device):\n",
        "    model.eval()                                # set model to evalutation mode\n",
        "    preds = []\n",
        "    for x in tt_set:                            # iterate through the dataloader\n",
        "        x = x.to(device)                        # move data to device (cpu/cuda)\n",
        "        with torch.no_grad():                   # disable gradient calculation\n",
        "            pred = model(x)                     # forward pass (compute output)\n",
        "            preds.append(pred.detach().cpu())   # collect prediction\n",
        "    preds = torch.cat(preds, dim=0).numpy()     # concatenate all predictions and convert to a numpy array\n",
        "    return preds"
      ],
      "execution_count": 10,
      "outputs": []
    },
    {
      "cell_type": "markdown",
      "metadata": {
        "id": "SvckkF5dvf0j"
      },
      "source": [
        "# **Setup Hyper-parameters**\n",
        "\n",
        "`config` contains hyper-parameters for training and the path to save your model."
      ]
    },
    {
      "cell_type": "code",
      "metadata": {
        "id": "NPXpdumwPjE7"
      },
      "source": [
        "device = get_device()                 # get the current available device ('cpu' or 'cuda')\n",
        "os.makedirs('models', exist_ok=True)  # The trained model will be saved to ./models/\n",
        "target_only = False                   # TODO: Using 40 states & 2 tested_positive features\n",
        "\n",
        "# TODO: How to tune these hyper-parameters to improve your model's performance?\n",
        "config = {\n",
        "    'n_epochs': 10000,                # 因为有early_stop，所以大一点没有影响\n",
        "    'batch_size': 200,               # 微调batchsize\n",
        "    'optimizer': 'Adam',               # 使用Adam优化器\n",
        "    'optim_hparas': {                # hyper-parameters for the optimizer (depends on which optimizer you are using)\n",
        "        'lr': 0.0005,                 # learning rate of SGD\n",
        "        # 'momentum': 0.9              # momentum for SGD\n",
        "    },\n",
        "    'early_stop': 1000,               # early stopping epochs (the number epochs since your model's last improvement)\n",
        "    'save_path': 'models/model.pth'  # your model will be saved here\n",
        "}"
      ],
      "execution_count": 11,
      "outputs": []
    },
    {
      "cell_type": "markdown",
      "metadata": {
        "id": "6j1eOV3TOH-j"
      },
      "source": [
        "# **Load data and model**"
      ]
    },
    {
      "cell_type": "code",
      "metadata": {
        "colab": {
          "base_uri": "https://localhost:8080/"
        },
        "id": "eNrYBMmePLKm",
        "outputId": "2364954e-1152-4690-8769-ae3e9a04464c"
      },
      "source": [
        "tr_set = prep_dataloader(tr_path, 'train', config['batch_size'], target_only=target_only)\n",
        "dv_set = prep_dataloader(tr_path, 'dev', config['batch_size'], target_only=target_only)\n",
        "tt_set = prep_dataloader(tt_path, 'test', config['batch_size'], target_only=target_only)"
      ],
      "execution_count": 12,
      "outputs": [
        {
          "output_type": "stream",
          "name": "stdout",
          "text": [
            "Finished reading the train set of COVID19 Dataset (2520 samples found, each dim = 93)\n",
            "Finished reading the dev set of COVID19 Dataset (180 samples found, each dim = 93)\n",
            "Finished reading the test set of COVID19 Dataset (893 samples found, each dim = 93)\n"
          ]
        }
      ]
    },
    {
      "cell_type": "code",
      "metadata": {
        "id": "FHylSirLP9oh"
      },
      "source": [
        "model = NeuralNet(tr_set.dataset.dim).to(device)  # Construct model and move to device"
      ],
      "execution_count": 13,
      "outputs": []
    },
    {
      "cell_type": "markdown",
      "metadata": {
        "id": "sX2B_zgSOPTJ"
      },
      "source": [
        "# **Start Training!**"
      ]
    },
    {
      "cell_type": "code",
      "metadata": {
        "colab": {
          "base_uri": "https://localhost:8080/"
        },
        "id": "GrEbUxazQAAZ",
        "outputId": "743edb70-66ca-4441-8a9d-65dea14f68f8"
      },
      "source": [
        "model_loss, model_loss_record = train(tr_set, dv_set, model, config, device)"
      ],
      "execution_count": 14,
      "outputs": [
        {
          "output_type": "stream",
          "name": "stdout",
          "text": [
            "Saving model (epoch =    1, loss = 318.9149)\n",
            "Saving model (epoch =    2, loss = 310.8117)\n",
            "Saving model (epoch =    3, loss = 304.7555)\n",
            "Saving model (epoch =    4, loss = 300.4168)\n",
            "Saving model (epoch =    5, loss = 297.6491)\n",
            "Saving model (epoch =    6, loss = 295.1898)\n",
            "Saving model (epoch =    7, loss = 292.9272)\n",
            "Saving model (epoch =    8, loss = 290.1851)\n",
            "Saving model (epoch =    9, loss = 288.4043)\n",
            "Saving model (epoch =   10, loss = 286.2736)\n",
            "Saving model (epoch =   11, loss = 282.8935)\n",
            "Saving model (epoch =   12, loss = 280.9555)\n",
            "Saving model (epoch =   13, loss = 278.9757)\n",
            "Saving model (epoch =   14, loss = 275.3875)\n",
            "Saving model (epoch =   15, loss = 273.0928)\n",
            "Saving model (epoch =   16, loss = 270.5408)\n",
            "Saving model (epoch =   17, loss = 267.2096)\n",
            "Saving model (epoch =   18, loss = 263.8155)\n",
            "Saving model (epoch =   19, loss = 261.9304)\n",
            "Saving model (epoch =   20, loss = 258.5020)\n",
            "Saving model (epoch =   21, loss = 254.4980)\n",
            "Saving model (epoch =   22, loss = 251.4014)\n",
            "Saving model (epoch =   23, loss = 247.2109)\n",
            "Saving model (epoch =   24, loss = 244.7207)\n",
            "Saving model (epoch =   25, loss = 240.5981)\n",
            "Saving model (epoch =   26, loss = 237.0338)\n",
            "Saving model (epoch =   27, loss = 233.0507)\n",
            "Saving model (epoch =   28, loss = 228.5392)\n",
            "Saving model (epoch =   29, loss = 223.6360)\n",
            "Saving model (epoch =   30, loss = 220.4022)\n",
            "Saving model (epoch =   31, loss = 217.1703)\n",
            "Saving model (epoch =   32, loss = 212.5983)\n",
            "Saving model (epoch =   33, loss = 207.6434)\n",
            "Saving model (epoch =   34, loss = 204.4850)\n",
            "Saving model (epoch =   35, loss = 199.9497)\n",
            "Saving model (epoch =   36, loss = 195.5696)\n",
            "Saving model (epoch =   37, loss = 193.1643)\n",
            "Saving model (epoch =   38, loss = 189.6887)\n",
            "Saving model (epoch =   39, loss = 184.0002)\n",
            "Saving model (epoch =   40, loss = 178.6172)\n",
            "Saving model (epoch =   41, loss = 177.0235)\n",
            "Saving model (epoch =   42, loss = 171.7064)\n",
            "Saving model (epoch =   43, loss = 167.0734)\n",
            "Saving model (epoch =   44, loss = 162.0119)\n",
            "Saving model (epoch =   45, loss = 160.0301)\n",
            "Saving model (epoch =   46, loss = 156.0608)\n",
            "Saving model (epoch =   47, loss = 153.5113)\n",
            "Saving model (epoch =   48, loss = 150.7896)\n",
            "Saving model (epoch =   49, loss = 146.3341)\n",
            "Saving model (epoch =   50, loss = 140.0803)\n",
            "Saving model (epoch =   51, loss = 138.7969)\n",
            "Saving model (epoch =   52, loss = 135.7239)\n",
            "Saving model (epoch =   53, loss = 130.2865)\n",
            "Saving model (epoch =   54, loss = 127.8543)\n",
            "Saving model (epoch =   55, loss = 124.5546)\n",
            "Saving model (epoch =   56, loss = 121.6857)\n",
            "Saving model (epoch =   57, loss = 119.0158)\n",
            "Saving model (epoch =   58, loss = 113.2218)\n",
            "Saving model (epoch =   59, loss = 110.1759)\n",
            "Saving model (epoch =   60, loss = 107.1913)\n",
            "Saving model (epoch =   61, loss = 103.2968)\n",
            "Saving model (epoch =   62, loss = 101.0835)\n",
            "Saving model (epoch =   63, loss = 98.3382)\n",
            "Saving model (epoch =   64, loss = 95.1104)\n",
            "Saving model (epoch =   66, loss = 91.9931)\n",
            "Saving model (epoch =   67, loss = 88.0517)\n",
            "Saving model (epoch =   68, loss = 85.3731)\n",
            "Saving model (epoch =   69, loss = 83.0621)\n",
            "Saving model (epoch =   70, loss = 81.2283)\n",
            "Saving model (epoch =   71, loss = 76.7433)\n",
            "Saving model (epoch =   72, loss = 73.2146)\n",
            "Saving model (epoch =   73, loss = 70.9038)\n",
            "Saving model (epoch =   74, loss = 69.0754)\n",
            "Saving model (epoch =   75, loss = 66.7167)\n",
            "Saving model (epoch =   76, loss = 65.9185)\n",
            "Saving model (epoch =   77, loss = 62.4497)\n",
            "Saving model (epoch =   78, loss = 60.8453)\n",
            "Saving model (epoch =   79, loss = 58.8925)\n",
            "Saving model (epoch =   80, loss = 55.8543)\n",
            "Saving model (epoch =   81, loss = 53.3464)\n",
            "Saving model (epoch =   82, loss = 51.6935)\n",
            "Saving model (epoch =   83, loss = 49.9916)\n",
            "Saving model (epoch =   84, loss = 46.5487)\n",
            "Saving model (epoch =   85, loss = 45.1091)\n",
            "Saving model (epoch =   86, loss = 44.0908)\n",
            "Saving model (epoch =   87, loss = 41.9485)\n",
            "Saving model (epoch =   88, loss = 40.9452)\n",
            "Saving model (epoch =   89, loss = 38.6531)\n",
            "Saving model (epoch =   91, loss = 36.2463)\n",
            "Saving model (epoch =   92, loss = 36.2206)\n",
            "Saving model (epoch =   93, loss = 33.5631)\n",
            "Saving model (epoch =   94, loss = 31.9323)\n",
            "Saving model (epoch =   95, loss = 31.3197)\n",
            "Saving model (epoch =   96, loss = 29.8034)\n",
            "Saving model (epoch =   97, loss = 27.3621)\n",
            "Saving model (epoch =   98, loss = 26.8613)\n",
            "Saving model (epoch =  100, loss = 23.4636)\n",
            "Saving model (epoch =  101, loss = 23.1394)\n",
            "Saving model (epoch =  102, loss = 21.0071)\n",
            "Saving model (epoch =  104, loss = 20.9485)\n",
            "Saving model (epoch =  105, loss = 18.1970)\n",
            "Saving model (epoch =  106, loss = 18.0506)\n",
            "Saving model (epoch =  107, loss = 17.7891)\n",
            "Saving model (epoch =  108, loss = 15.6916)\n",
            "Saving model (epoch =  110, loss = 14.8296)\n",
            "Saving model (epoch =  111, loss = 14.7318)\n",
            "Saving model (epoch =  112, loss = 14.1503)\n",
            "Saving model (epoch =  113, loss = 13.9535)\n",
            "Saving model (epoch =  114, loss = 12.6331)\n",
            "Saving model (epoch =  115, loss = 12.1829)\n",
            "Saving model (epoch =  116, loss = 11.3790)\n",
            "Saving model (epoch =  117, loss = 10.6864)\n",
            "Saving model (epoch =  118, loss = 10.2154)\n",
            "Saving model (epoch =  119, loss = 10.2062)\n",
            "Saving model (epoch =  120, loss = 9.1368)\n",
            "Saving model (epoch =  123, loss = 7.5770)\n",
            "Saving model (epoch =  124, loss = 6.9735)\n",
            "Saving model (epoch =  126, loss = 6.9725)\n",
            "Saving model (epoch =  128, loss = 6.1605)\n",
            "Saving model (epoch =  129, loss = 5.9654)\n",
            "Saving model (epoch =  130, loss = 5.6768)\n",
            "Saving model (epoch =  131, loss = 5.4622)\n",
            "Saving model (epoch =  133, loss = 4.9562)\n",
            "Saving model (epoch =  135, loss = 4.9162)\n",
            "Saving model (epoch =  136, loss = 4.4716)\n",
            "Saving model (epoch =  138, loss = 3.8024)\n",
            "Saving model (epoch =  140, loss = 3.6931)\n",
            "Saving model (epoch =  141, loss = 3.3392)\n",
            "Saving model (epoch =  146, loss = 2.8078)\n",
            "Saving model (epoch =  149, loss = 2.7115)\n",
            "Saving model (epoch =  151, loss = 2.5528)\n",
            "Saving model (epoch =  153, loss = 2.4365)\n",
            "Saving model (epoch =  155, loss = 2.3877)\n",
            "Saving model (epoch =  156, loss = 2.3479)\n",
            "Saving model (epoch =  157, loss = 2.2567)\n",
            "Saving model (epoch =  160, loss = 2.0787)\n",
            "Saving model (epoch =  167, loss = 1.9263)\n",
            "Saving model (epoch =  171, loss = 1.8956)\n",
            "Saving model (epoch =  173, loss = 1.7521)\n",
            "Saving model (epoch =  176, loss = 1.7415)\n",
            "Saving model (epoch =  178, loss = 1.5643)\n",
            "Saving model (epoch =  203, loss = 1.5456)\n",
            "Saving model (epoch =  208, loss = 1.4534)\n",
            "Saving model (epoch =  219, loss = 1.4390)\n",
            "Saving model (epoch =  222, loss = 1.3642)\n",
            "Saving model (epoch =  256, loss = 1.3457)\n",
            "Saving model (epoch =  257, loss = 1.3091)\n",
            "Saving model (epoch =  266, loss = 1.2830)\n",
            "Saving model (epoch =  268, loss = 1.2194)\n",
            "Saving model (epoch =  280, loss = 1.2110)\n",
            "Saving model (epoch =  325, loss = 1.1535)\n",
            "Saving model (epoch =  448, loss = 1.1369)\n",
            "Saving model (epoch =  454, loss = 1.0590)\n",
            "Saving model (epoch =  585, loss = 1.0442)\n",
            "Saving model (epoch =  714, loss = 1.0338)\n",
            "Saving model (epoch =  722, loss = 1.0056)\n",
            "Saving model (epoch =  781, loss = 0.9843)\n",
            "Saving model (epoch =  853, loss = 0.9488)\n",
            "Saving model (epoch = 1148, loss = 0.9454)\n",
            "Saving model (epoch = 1207, loss = 0.9401)\n",
            "Saving model (epoch = 1268, loss = 0.9376)\n",
            "Saving model (epoch = 1274, loss = 0.9294)\n",
            "Saving model (epoch = 1375, loss = 0.9160)\n",
            "Finished training after 1876 epochs\n"
          ]
        }
      ]
    },
    {
      "cell_type": "code",
      "metadata": {
        "colab": {
          "base_uri": "https://localhost:8080/",
          "height": 410
        },
        "id": "hsNO9nnXQBvP",
        "outputId": "741c2d41-3f77-4e79-f8c7-dc31c13b5f96"
      },
      "source": [
        "plot_learning_curve(model_loss_record, title='deep model')"
      ],
      "execution_count": 15,
      "outputs": [
        {
          "output_type": "display_data",
          "data": {
            "text/plain": [
              "<Figure size 600x400 with 1 Axes>"
            ],
            "image/png": "[encoded data removed]"
          },
          "metadata": {}
        }
      ]
    },
    {
      "cell_type": "code",
      "metadata": {
        "colab": {
          "base_uri": "https://localhost:8080/",
          "height": 487
        },
        "id": "3iZTVn5WQFpX",
        "outputId": "4cb6ff77-c5e3-42e9-ec87-e39e01a26754"
      },
      "source": [
        "del model\n",
        "model = NeuralNet(tr_set.dataset.dim).to(device)\n",
        "ckpt = torch.load(config['save_path'], map_location='cpu')  # Load your best model\n",
        "model.load_state_dict(ckpt)\n",
        "plot_pred(dv_set, model, device)  # Show prediction on the validation set"
      ],
      "execution_count": 16,
      "outputs": [
        {
          "output_type": "display_data",
          "data": {
            "text/plain": [
              "<Figure size 500x500 with 1 Axes>"
            ],
            "image/png": "[encoded data removed]"
          },
          "metadata": {}
        }
      ]
    },
    {
      "cell_type": "markdown",
      "metadata": {
        "id": "aQikz3IPiyPf"
      },
      "source": [
        "# **Testing**\n",
        "The predictions of your model on testing set will be stored at `pred.csv`."
      ]
    },
    {
      "cell_type": "code",
      "metadata": {
        "colab": {
          "base_uri": "https://localhost:8080/"
        },
        "id": "O8cTuQjQQOon",
        "outputId": "f022e175-23ef-4630-af1b-af9f07547bbd"
      },
      "source": [
        "def save_pred(preds, file):\n",
        "    ''' Save predictions to specified file '''\n",
        "    print('Saving results to {}'.format(file))\n",
        "    with open(file, 'w') as fp:\n",
        "        writer = csv.writer(fp)\n",
        "        writer.writerow(['id', 'tested_positive'])\n",
        "        for i, p in enumerate(preds):\n",
        "            writer.writerow([i, p])\n",
        "\n",
        "preds = test(tt_set, model, device)  # predict COVID-19 cases with your model\n",
        "save_pred(preds, 'pred.csv')         # save prediction file to pred.csv"
      ],
      "execution_count": 17,
      "outputs": [
        {
          "output_type": "stream",
          "name": "stdout",
          "text": [
            "Saving results to pred.csv\n"
          ]
        }
      ]
    },
    {
      "cell_type": "markdown",
      "metadata": {
        "id": "nfrVxqJanGpE"
      },
      "source": [
        "# **Hints**\n",
        "\n",
        "## **Simple Baseline**\n",
        "* Run sample code\n",
        "\n",
        "## **Medium Baseline**\n",
        "* Feature selection: 40 states + 2 `tested_positive` (`TODO` in dataset)\n",
        "\n",
        "## **Strong Baseline**\n",
        "* Feature selection (what other features are useful?)\n",
        "* DNN architecture (layers? dimension? activation function?)\n",
        "* Training (mini-batch? optimizer? learning rate?)\n",
        "* L2 regularization\n",
        "* There are some mistakes in the sample code, can you find them?"
      ]
    },
    {
      "cell_type": "markdown",
      "metadata": {
        "id": "9tmCwXgpot3t"
      },
      "source": [
        "# **Reference**\n",
        "This code is completely written by Heng-Jui Chang @ NTUEE.  \n",
        "Copying or reusing this code is required to specify the original author.\n",
        "\n",
        "E.g.  \n",
        "Source: Heng-Jui Chang @ NTUEE (https://github.com/ga642381/ML2021-Spring/blob/main/HW01/HW01.ipynb)\n"
      ]
    }
  ]
}